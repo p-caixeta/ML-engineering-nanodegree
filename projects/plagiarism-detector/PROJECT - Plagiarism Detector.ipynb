{
 "cells": [
  {
   "cell_type": "markdown",
   "metadata": {},
   "source": [
    "## Containment\n",
    "One of your first tasks will be to create containment features that first look at a whole body of text (and count up the occurrences of words in several text files) and then compare a submitted and source text, relative to the traits of the whole body of text.\n",
    "\n",
    "Calculating containment\n",
    "You can calculate n-gram counts using count vectorization, and then follow the formula for containment:\n",
    "\n",
    "`sum( count(ngram*A*) interssection count(ngram*S*) ) / count(ngram*A*)`\n",
    "\n",
    "Having longer n-gram's in common, might be an indication of cut-and-paste plagiarism.\n",
    "\n",
    "### N-gram counts\n",
    "\n",
    "One of the first things you'll need to do is to count up the occurrences of n-grams in your text data. To convert a set of text data into a matrix of counts, you can use a [CountVectorizer](https://scikit-learn.org/stable/modules/generated/sklearn.feature_extraction.text.CountVectorizer.html).\n",
    "When CountVectorizer is passed analyzer='word' it defines a word as two or more characters and so it ignores uni-character words.\n",
    "```\n",
    "# instantiate an ngram counter\n",
    "counts = CountVectorizer(analyzer='word', ngram_range=(n,n))\n",
    "# create array of n-gram counts for the answer and source text\n",
    "ngrams = counts.fit_transform([a_text, s_text])\n",
    "ngram_array = ngrams.toarray()\n",
    "print(ngram_array)\n",
    "\n",
    "out:[[1 1 1 0 1 1]\n",
    "     [0 0 1 1 1 1]]\n",
    "```\n",
    "So, the top row indicates the n-gram counts for the answer, and the second row indicates those for the source. If they have n-grams in common, you can see this by looking at the column values. For example they both have one \"is\" (column 2) and \"text\" (column 4) and \"this\" (column 5).\n",
    "\n",
    "```\n",
    "[[1 1 1 0 1 1]    =   an  answer  [is]  ______  [text] [this]\n",
    " [0 0 1 1 1 1]]   =   __  ______  [is]  source  [text] [this]\n",
    "\n",
    "def containment(ngram_array):\n",
    "    ''' Containment is a measure of text similarity. It is the normalized, \n",
    "       intersection of ngram word counts in two texts.\n",
    "       :param ngram_array: an array of ngram counts for an answer and source text.\n",
    "       :return: a normalized containment value.'''\n",
    "    \n",
    "    intersec=sum([i for i, j in zip(ngram_array[0], ngram_array[1]) if i == j])\n",
    "    cont_value=intersec/sum(ngram_array[0])    \n",
    "    \n",
    "    return cont_value\n",
    "```"
   ]
  },
  {
   "cell_type": "markdown",
   "metadata": {},
   "source": [
    "### Notebook 1: Data Exploration\n",
    "\n",
    "- Load in the corpus of plagiarism text data.\n",
    "- Explore the existing data features and the data distribution.\n",
    "- This first notebook is not required in your final project submission.\n",
    "\n",
    "### Notebook 2: Feature Engineering\n",
    "\n",
    "- Clean and pre-process the text data.\n",
    "- Define features for comparing the similarity of an answer text and a source text, and extract similarity features.\n",
    "- Select \"good\" features, by analyzing the correlations between different features.\n",
    "- Create train/test .csv files that hold the relevant features and class labels for train/test data points.\n",
    "\n",
    "\n",
    "### Notebook 3: Train and Deploy Your Model in SageMaker\n",
    "\n",
    "- Upload your train/test feature data to S3.\n",
    "- Define a binary classification model and a training script.\n",
    "- Train your model and deploy it using SageMaker.\n",
    "- Evaluate your deployed classifier."
   ]
  },
  {
   "cell_type": "code",
   "execution_count": null,
   "metadata": {},
   "outputs": [],
   "source": []
  }
 ],
 "metadata": {
  "kernelspec": {
   "display_name": "Python 3",
   "language": "python",
   "name": "python3"
  },
  "language_info": {
   "codemirror_mode": {
    "name": "ipython",
    "version": 3
   },
   "file_extension": ".py",
   "mimetype": "text/x-python",
   "name": "python",
   "nbconvert_exporter": "python",
   "pygments_lexer": "ipython3",
   "version": "3.7.6"
  }
 },
 "nbformat": 4,
 "nbformat_minor": 4
}
